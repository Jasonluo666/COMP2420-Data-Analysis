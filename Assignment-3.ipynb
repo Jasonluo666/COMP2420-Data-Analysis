{
 "cells": [
  {
   "cell_type": "markdown",
   "metadata": {
    "deletable": false,
    "editable": false,
    "nbgrader": {
     "checksum": "fdc40c6f619d87620455aa55ad38db61",
     "grade": false,
     "grade_id": "cell-2e788b64c47c51f0",
     "locked": true,
     "schema_version": 1,
     "solution": false
    }
   },
   "source": [
    "# COMP2420/6420 - Introduction to Data Management, Analysis and Security\n",
    "\n",
    "\n",
    "### Australian National University\n",
    "\n",
    "### College of Engineering and Computer Science"
   ]
  },
  {
   "cell_type": "markdown",
   "metadata": {
    "deletable": false,
    "editable": false,
    "nbgrader": {
     "checksum": "ff29337b01af89773420e21640dc2e13",
     "grade": false,
     "grade_id": "cell-507e9fc64615e9b1",
     "locked": true,
     "schema_version": 1,
     "solution": false
    }
   },
   "source": [
    "Assignment 3 \n",
    "============\n",
    "\n",
    "  \n",
    "|**Maximum marks**         |**100**\n",
    "|--------------------------|--------\n",
    "|  **Weight**              |  **15% of the total marks for the course**\n",
    "|  **Submission deadline** |  **5pm, Friday, May 18**\n",
    "|  **Submission mode**     |  **Electronic, using wattle**\n",
    "|  **Estimated time**      |  **20 hours**\n",
    "|  **Penalty**             |  **100% after the deadline**\n",
    "  \n"
   ]
  },
  {
   "cell_type": "markdown",
   "metadata": {
    "deletable": false,
    "editable": false,
    "nbgrader": {
     "checksum": "ac17bba771e8f168a8e5f5c6d8e2b56c",
     "grade": false,
     "grade_id": "cell-5f1b50ee6d48518b",
     "locked": true,
     "schema_version": 1,
     "solution": false
    }
   },
   "source": [
    "# Submission\n",
    "\n",
    "You need to submit the notebook `Assignment-3.ipynb` as part of your submission on wattle. You need to add your group and student details below. Remember your filename should be exactly as given below. Any changes to file name will mean your file can't be marked by the automarker, resulting in a zero mark.\n",
    "\n",
    "**Note**\n",
    "\n",
    "* For answers requiring free form written text, use the designated cells denoted by `YOUR ANSWER HERE` -- double click on the cell to write inside them.\n",
    "* For all coding questions please write your code after the comment `YOUR CODE HERE`.\n",
    "* After inserting your code **please remove** the following line from each code cell `raise NotImplementedError()`.\n",
    "* In the process of testing your code, you can insert more cells or use print statements for debugging, but when submitting your file remember to remove these cells and calls respectively.\n",
    "* You will be marked on **correctness** and **readability** of your code, if your marker can't understand your code you will get zero marks. \n",
    "* We have marked some questions with a tag **hard** and **slightly hard**, so that you can plan your time accordingly\n",
    "* We advise students to skip Q2.4 at first. You can always come back after finishing all other questions.\n",
    "* Have marked changes in color  <font color='magenta'>magenta from last version</font>, there are few clarifications."
   ]
  },
  {
   "cell_type": "markdown",
   "metadata": {},
   "source": [
    "# Group Name : 193\n",
    "### Student Id1: u5810991\n",
    "### Student Id2: u6488845"
   ]
  },
  {
   "cell_type": "code",
   "execution_count": 2,
   "metadata": {
    "collapsed": true,
    "deletable": false,
    "editable": false,
    "nbgrader": {
     "checksum": "d256dca8516e0b8df0b2dd9ee9d0b63f",
     "grade": false,
     "grade_id": "cell-7a73997def131f21",
     "locked": true,
     "schema_version": 1,
     "solution": false
    }
   },
   "outputs": [],
   "source": [
    "import json\n",
    "import os\n",
    "import urllib\n",
    "import numpy as np\n",
    "import pandas as pd\n",
    "import seaborn as sns\n",
    "import matplotlib.pyplot as plt\n",
    "from sklearn import datasets\n",
    "from sklearn.linear_model import LinearRegression, LogisticRegression\n",
    "from sklearn.model_selection import train_test_split, cross_val_score\n",
    "from sklearn.neighbors import KNeighborsClassifier, KNeighborsRegressor\n",
    "from scipy.stats import ttest_ind, ttest_rel,ttest_1samp\n",
    "from sklearn.preprocessing import scale\n",
    "plt.style.use('seaborn-notebook')\n",
    "## inline figures\n",
    "%matplotlib inline\n",
    "\n",
    "## just to make sure few warnings are not shown\n",
    "import warnings\n",
    "warnings.filterwarnings(\"ignore\")"
   ]
  },
  {
   "cell_type": "markdown",
   "metadata": {
    "deletable": false,
    "editable": false,
    "nbgrader": {
     "checksum": "8e74be905ae5a2fffe08ca754453a61a",
     "grade": false,
     "grade_id": "cell-f32ba0f9b226ad50",
     "locked": true,
     "schema_version": 1,
     "solution": false
    }
   },
   "source": [
    "#### If you need to put more imports please insert them below"
   ]
  },
  {
   "cell_type": "code",
   "execution_count": 10,
   "metadata": {
    "collapsed": true
   },
   "outputs": [],
   "source": [
    "## Put extra imports here if required by your code\n",
    "from itertools import combinations"
   ]
  },
  {
   "cell_type": "markdown",
   "metadata": {
    "deletable": false,
    "editable": false,
    "nbgrader": {
     "checksum": "16e51aa97cf0bf7082e50ba21cc4ccbe",
     "grade": false,
     "grade_id": "cell-f1a9482c04e9e206",
     "locked": true,
     "schema_version": 1,
     "solution": false
    }
   },
   "source": [
    "## Part 1 Data Analysis (15 marks)\n",
    "\n",
    "We will use the tweets dataset from [Assignment 2](https://cs.anu.edu.au/courses/comp2420/assessment/02-assignments/ass2/comp2420/assignment-2/). The questions in part 1 are not merely about performing a t-test, you need to think carefully about the type of t-test to run and craft your hypothesis accordingly."
   ]
  },
  {
   "cell_type": "markdown",
   "metadata": {
    "deletable": false,
    "editable": false,
    "nbgrader": {
     "checksum": "1497a89551d4062411922932cc8f2ac9",
     "grade": false,
     "grade_id": "cell-a095c3f227238a1c",
     "locked": true,
     "schema_version": 1,
     "solution": false
    }
   },
   "source": [
    "#### Reading the dataframe"
   ]
  },
  {
   "cell_type": "code",
   "execution_count": 4,
   "metadata": {
    "deletable": false,
    "editable": false,
    "nbgrader": {
     "checksum": "c60625c61b49a27a0f7d6e235a47daa9",
     "grade": false,
     "grade_id": "cell-a4c6565bd4858b8f",
     "locked": true,
     "schema_version": 1,
     "solution": false
    }
   },
   "outputs": [
    {
     "data": {
      "text/html": [
       "<div>\n",
       "<style scoped>\n",
       "    .dataframe tbody tr th:only-of-type {\n",
       "        vertical-align: middle;\n",
       "    }\n",
       "\n",
       "    .dataframe tbody tr th {\n",
       "        vertical-align: top;\n",
       "    }\n",
       "\n",
       "    .dataframe thead th {\n",
       "        text-align: right;\n",
       "    }\n",
       "</style>\n",
       "<table border=\"1\" class=\"dataframe\">\n",
       "  <thead>\n",
       "    <tr style=\"text-align: right;\">\n",
       "      <th></th>\n",
       "      <th>time_created</th>\n",
       "      <th>twid</th>\n",
       "      <th>user_id</th>\n",
       "      <th>rtwid</th>\n",
       "      <th>#followers</th>\n",
       "      <th>#friends</th>\n",
       "      <th>#mentions</th>\n",
       "      <th>#hashtags</th>\n",
       "      <th>lang_tweet</th>\n",
       "      <th>lang_user</th>\n",
       "      <th>place</th>\n",
       "    </tr>\n",
       "  </thead>\n",
       "  <tbody>\n",
       "    <tr>\n",
       "      <th>0</th>\n",
       "      <td>2014-08-01 14:54:13</td>\n",
       "      <td>495220965932949505</td>\n",
       "      <td>888538849</td>\n",
       "      <td>495220965932949505</td>\n",
       "      <td>199</td>\n",
       "      <td>156</td>\n",
       "      <td>1</td>\n",
       "      <td>0</td>\n",
       "      <td>th</td>\n",
       "      <td>en</td>\n",
       "      <td>NaN</td>\n",
       "    </tr>\n",
       "    <tr>\n",
       "      <th>1</th>\n",
       "      <td>2014-08-01 15:03:33</td>\n",
       "      <td>495223314806108162</td>\n",
       "      <td>143051249</td>\n",
       "      <td>495223314806108162</td>\n",
       "      <td>88</td>\n",
       "      <td>385</td>\n",
       "      <td>1</td>\n",
       "      <td>0</td>\n",
       "      <td>th</td>\n",
       "      <td>en</td>\n",
       "      <td>NaN</td>\n",
       "    </tr>\n",
       "    <tr>\n",
       "      <th>2</th>\n",
       "      <td>2014-08-01 15:06:18</td>\n",
       "      <td>495224004316114944</td>\n",
       "      <td>103258302</td>\n",
       "      <td>495224004316114944</td>\n",
       "      <td>312</td>\n",
       "      <td>457</td>\n",
       "      <td>0</td>\n",
       "      <td>1</td>\n",
       "      <td>th</td>\n",
       "      <td>en</td>\n",
       "      <td>NaN</td>\n",
       "    </tr>\n",
       "    <tr>\n",
       "      <th>3</th>\n",
       "      <td>2014-08-01 15:11:52</td>\n",
       "      <td>495225405779881984</td>\n",
       "      <td>903364921</td>\n",
       "      <td>495224004316114944</td>\n",
       "      <td>71</td>\n",
       "      <td>461</td>\n",
       "      <td>1</td>\n",
       "      <td>1</td>\n",
       "      <td>th</td>\n",
       "      <td>en</td>\n",
       "      <td>NaN</td>\n",
       "    </tr>\n",
       "    <tr>\n",
       "      <th>4</th>\n",
       "      <td>2014-08-01 15:12:19</td>\n",
       "      <td>495225522066968576</td>\n",
       "      <td>555683225</td>\n",
       "      <td>495225522066968576</td>\n",
       "      <td>1533</td>\n",
       "      <td>375</td>\n",
       "      <td>1</td>\n",
       "      <td>0</td>\n",
       "      <td>th</td>\n",
       "      <td>th</td>\n",
       "      <td>NaN</td>\n",
       "    </tr>\n",
       "  </tbody>\n",
       "</table>\n",
       "</div>"
      ],
      "text/plain": [
       "         time_created                twid    user_id               rtwid  \\\n",
       "0 2014-08-01 14:54:13  495220965932949505  888538849  495220965932949505   \n",
       "1 2014-08-01 15:03:33  495223314806108162  143051249  495223314806108162   \n",
       "2 2014-08-01 15:06:18  495224004316114944  103258302  495224004316114944   \n",
       "3 2014-08-01 15:11:52  495225405779881984  903364921  495224004316114944   \n",
       "4 2014-08-01 15:12:19  495225522066968576  555683225  495225522066968576   \n",
       "\n",
       "   #followers  #friends  #mentions  #hashtags lang_tweet lang_user place  \n",
       "0         199       156          1          0         th        en   NaN  \n",
       "1          88       385          1          0         th        en   NaN  \n",
       "2         312       457          0          1         th        en   NaN  \n",
       "3          71       461          1          1         th        en   NaN  \n",
       "4        1533       375          1          0         th        th   NaN  "
      ]
     },
     "execution_count": 4,
     "metadata": {},
     "output_type": "execute_result"
    }
   ],
   "source": [
    "df_tweets = pd.read_hdf(os.path.join('data','yt_tweets_df.h5'))\n",
    "df_tweets.head(5)"
   ]
  },
  {
   "cell_type": "markdown",
   "metadata": {
    "deletable": false,
    "editable": false,
    "nbgrader": {
     "checksum": "d47abc9c769001ae83be04a754cfd0bf",
     "grade": false,
     "grade_id": "cell-39f6ee7419230649",
     "locked": true,
     "schema_version": 1,
     "solution": false
    }
   },
   "source": [
    "#### For question Q1.1, Q1.2 and Q1.3 you need to work on the dataframe `df_tweets`"
   ]
  },
  {
   "cell_type": "markdown",
   "metadata": {
    "deletable": false,
    "editable": false,
    "nbgrader": {
     "checksum": "2e087992b877b83d161498b8280cc63d",
     "grade": false,
     "grade_id": "cell-7bf6afffdf7e5244",
     "locked": true,
     "schema_version": 1,
     "solution": false
    }
   },
   "source": [
    "## Q 1.1\n",
    "### Compare the mean for '#friends' for tweets in language 'en' (lang_tweet='en') against the overall mean value, 612. (5 marks)\n",
    "Give your analysis with the help of a t-test . You will need to explicitly state your hypothesis and p-value being used. In two cells below, write your code to perform test in first cell and in second cell write your hypothesis, p-value and the result from running the tests."
   ]
  },
  {
   "cell_type": "code",
   "execution_count": 4,
   "metadata": {
    "deletable": false,
    "nbgrader": {
     "checksum": "de0bc6806d9bb136d9e45fea7afff69c",
     "grade": true,
     "grade_id": "cell-d35e877e0dab5069",
     "locked": false,
     "points": 2.5,
     "schema_version": 1,
     "solution": true
    }
   },
   "outputs": [
    {
     "data": {
      "text/plain": [
       "Ttest_1sampResult(statistic=2.4929597452893266, pvalue=0.012694319844190404)"
      ]
     },
     "execution_count": 4,
     "metadata": {},
     "output_type": "execute_result"
    }
   ],
   "source": [
    "# YOUR CODE HERE\n",
    "ttest_1samp(df_tweets[df_tweets['lang_tweet'] == 'en']['#friends'], 612)"
   ]
  },
  {
   "cell_type": "markdown",
   "metadata": {
    "deletable": false,
    "nbgrader": {
     "checksum": "87a6edcbacbfc682a88c0445e031aadc",
     "grade": true,
     "grade_id": "cell-385020ae21cc65b6",
     "locked": false,
     "points": 2.5,
     "schema_version": 1,
     "solution": true
    }
   },
   "source": [
    "We hypothesise that the mean number of friends (#friends) per tweet is 612 and will accept any result where pValue < 0.05. The result we recieved from the ttest on the sample data is ~0.01, since 0.01 < 0.05 we accept the hypothesis. (the mean number of friends per tweet is 612.)"
   ]
  },
  {
   "cell_type": "markdown",
   "metadata": {
    "deletable": false,
    "editable": false,
    "nbgrader": {
     "checksum": "6c10b0f0d9927eaf21a4a7d9b21b0912",
     "grade": false,
     "grade_id": "cell-ede7ca736534521d",
     "locked": true,
     "schema_version": 1,
     "solution": false
    }
   },
   "source": [
    "## Q 1.2\n",
    "### Compare the mean for '#friends' for tweets tagged with language English (lang_tweet='en') against the tweets tagged with language Japanese (lang_tweet='ja'). (5 marks)\n",
    "Give your analysis with the help of a t-test . You will need to explicitly state your hypothesis and p-value being used. In two cells below, write your code to perform test in first cell and in second cell write your hypothesis, p-value and the result from running the tests."
   ]
  },
  {
   "cell_type": "code",
   "execution_count": 5,
   "metadata": {
    "deletable": false,
    "nbgrader": {
     "checksum": "93b5484729ab467899b7ec700bd1f11f",
     "grade": true,
     "grade_id": "cell-b368913b60cefdce",
     "locked": false,
     "points": 2.5,
     "schema_version": 1,
     "solution": true
    }
   },
   "outputs": [
    {
     "data": {
      "text/plain": [
       "Ttest_indResult(statistic=2.8978352577844055, pvalue=0.003765385642525458)"
      ]
     },
     "execution_count": 5,
     "metadata": {},
     "output_type": "execute_result"
    }
   ],
   "source": [
    "# YOUR CODE HERE\n",
    "engFrie = df_tweets[df_tweets['lang_tweet'] == 'en']['#friends']\n",
    "japFrie = df_tweets[df_tweets['lang_tweet'] == 'ja']['#friends']\n",
    "ttest_ind(engFrie, japFrie)"
   ]
  },
  {
   "cell_type": "markdown",
   "metadata": {
    "deletable": false,
    "nbgrader": {
     "checksum": "a34c47bef81fe7614b67b3a9c4b22129",
     "grade": true,
     "grade_id": "cell-5751c1a805991bce",
     "locked": false,
     "points": 2.5,
     "schema_version": 1,
     "solution": true
    }
   },
   "source": [
    "We hypothesise that the mean number of friends (#friends) per tweet is the same independant on whether lang_tweet = en or lang_tweet = ja. We will accept any result where pValue < 0.05. The result we recieved from the ttest on the sample data is ~0.004, since 0.004 < 0.05 we accept the hypothesis. (the mean number of friends per tweet is independant on whether lang_tweet is english or japanese.)"
   ]
  },
  {
   "cell_type": "markdown",
   "metadata": {
    "deletable": false,
    "editable": false,
    "nbgrader": {
     "checksum": "c20bfc0df2d095f840d8baab9649d062",
     "grade": false,
     "grade_id": "cell-c0c7631e6edf978c",
     "locked": true,
     "schema_version": 1,
     "solution": false
    }
   },
   "source": [
    "## Q 1.3\n",
    "### Compare the mean for '#followers' against '#friends 'for tweets tagged with language English (lang_tweet='en'). (5 marks)\n",
    "\n",
    "Give your analysis with the help of a t-test . You will need to explicitly state your hypothesis and p-value being used. In two cells below, write your code to perform test in first cell and in second cell write your hypothesis, p-value and the result from running the tests."
   ]
  },
  {
   "cell_type": "code",
   "execution_count": 5,
   "metadata": {
    "deletable": false,
    "nbgrader": {
     "checksum": "1ec528f68f5afefd9edc042899350b26",
     "grade": true,
     "grade_id": "cell-1154ab0e7e7d5c02",
     "locked": false,
     "points": 2.5,
     "schema_version": 1,
     "solution": true
    }
   },
   "outputs": [
    {
     "data": {
      "text/plain": [
       "Ttest_relResult(statistic=-6.644535539911943, pvalue=3.301997736107237e-11)"
      ]
     },
     "execution_count": 5,
     "metadata": {},
     "output_type": "execute_result"
    }
   ],
   "source": [
    "# YOUR CODE HERE\n",
    "ttest_rel(df_tweets[df_tweets['lang_tweet'] == 'en']['#friends'], df_tweets[df_tweets['lang_tweet'] == 'en']['#followers'])"
   ]
  },
  {
   "cell_type": "markdown",
   "metadata": {
    "deletable": false,
    "nbgrader": {
     "checksum": "d46516df22f7045128f025a47fddb885",
     "grade": true,
     "grade_id": "cell-39f094d14762c1cc",
     "locked": false,
     "points": 2.5,
     "schema_version": 1,
     "solution": true
    }
   },
   "source": [
    "### We hypothesise that the mean number of friends (#friends) per tweet is the same as the mean number of followers per tweet. We will accept any result where pValue < 0.05. The result we recieved from the ttest on the sample data is 3.3, since 3.3 !< 0.05 we reject the hypothesis. (the mean number of friends per tweet is not same as the mean number of followers per tweet.)"
   ]
  },
  {
   "cell_type": "markdown",
   "metadata": {
    "deletable": false,
    "editable": false,
    "nbgrader": {
     "checksum": "1419ec5c426c21895dfbca5f4497b060",
     "grade": false,
     "grade_id": "cell-6f6b9a8e50905fe3",
     "locked": true,
     "schema_version": 1,
     "solution": false
    }
   },
   "source": [
    "## Part 2 Regression (45 marks)\n",
    "\n",
    "We will use the data from before 2018 in the [Sean Lahman's Baseball Database](http://www.seanlahman.com/#sportsdata) to create a metric for picking baseball players using linear regression. This database contains the \"complete batting and pitching statistics from 1871 to 2017, plus fielding statistics, standings, team stats, managerial records, post-season data, and more\". [Documentation provided here]http://www.seanlahman.com/files/database/readme2017.txt).\n",
    "\n",
    "We have extracted the data and derived two dataframes from it. These dataframes have historical offensive (that is, batting statistics) information about various teams and players up to and including the 2017 season.\n",
    "\n",
    "Name of pandas DataFrame  | Name of file\n",
    ":---: |  :---: |\n",
    "stats |  baseball_team_stats_offensive_players.h5\n",
    "playerLS | baseball_players_offensive_stats.h5\n",
    "\n",
    "Description of **stats** DataFrame\n",
    "\n",
    "Field| Description\n",
    ":---: |  :---: |\n",
    "teamID| unique ID for a baseball team\n",
    "yearID| years for which we have stats for\n",
    "w| number of games won out of 162 games played in a season\n",
    "1B| normalized number of singles hit by team\n",
    "2B| normalized number of doubles hit by team\n",
    "3B| normalized number of triples hit by team\n",
    "HR| normalized number of home runs hit by team\n",
    "BB| normalized number of Base on Balls by team\n",
    "\n",
    "Description of **playerLS** DataFrame\n",
    "\n",
    "Field| Description\n",
    ":---: |  :---: |\n",
    "playerID| unique ID for a player\n",
    "POS| position where a player plays in the team\n",
    "minYear| year the player started his career\n",
    "maxYear| year the player played his last game\n",
    "1B| normalized number of singles hit by player\n",
    "2B| normalized number of doubles hit by player\n",
    "3B| normalized number of triples hit by player\n",
    "HR| normalized number of home runs hit by player\n",
    "BB| normalized number of Base on Balls by player\n",
    "nameFirst| first name of the player\n",
    "nameLast| last name of the player\n",
    "salary| median salary of the player\n",
    "\n",
    "***Note:*** You don't need to understand exactly what each of features mean! They can be seen as team/individual statistics for a baseball game."
   ]
  },
  {
   "cell_type": "code",
   "execution_count": 7,
   "metadata": {
    "deletable": false,
    "editable": false,
    "nbgrader": {
     "checksum": "56a6510b32ed955d66e3c59d9ba1bf25",
     "grade": false,
     "grade_id": "cell-4b89d496f9b465c9",
     "locked": true,
     "schema_version": 1,
     "solution": false
    }
   },
   "outputs": [
    {
     "data": {
      "text/html": [
       "<div>\n",
       "<style scoped>\n",
       "    .dataframe tbody tr th:only-of-type {\n",
       "        vertical-align: middle;\n",
       "    }\n",
       "\n",
       "    .dataframe tbody tr th {\n",
       "        vertical-align: top;\n",
       "    }\n",
       "\n",
       "    .dataframe thead th {\n",
       "        text-align: right;\n",
       "    }\n",
       "</style>\n",
       "<table border=\"1\" class=\"dataframe\">\n",
       "  <thead>\n",
       "    <tr style=\"text-align: right;\">\n",
       "      <th></th>\n",
       "      <th>teamID</th>\n",
       "      <th>yearID</th>\n",
       "      <th>W</th>\n",
       "      <th>1B</th>\n",
       "      <th>2B</th>\n",
       "      <th>3B</th>\n",
       "      <th>HR</th>\n",
       "      <th>BB</th>\n",
       "    </tr>\n",
       "  </thead>\n",
       "  <tbody>\n",
       "    <tr>\n",
       "      <th>1366</th>\n",
       "      <td>KC1</td>\n",
       "      <td>1961</td>\n",
       "      <td>61</td>\n",
       "      <td>0.008502</td>\n",
       "      <td>0.000137</td>\n",
       "      <td>0.002113</td>\n",
       "      <td>-0.007983</td>\n",
       "      <td>-0.007465</td>\n",
       "    </tr>\n",
       "    <tr>\n",
       "      <th>1367</th>\n",
       "      <td>LAA</td>\n",
       "      <td>1961</td>\n",
       "      <td>70</td>\n",
       "      <td>-0.008502</td>\n",
       "      <td>-0.000137</td>\n",
       "      <td>-0.002113</td>\n",
       "      <td>0.007983</td>\n",
       "      <td>0.007465</td>\n",
       "    </tr>\n",
       "    <tr>\n",
       "      <th>1377</th>\n",
       "      <td>BAL</td>\n",
       "      <td>1962</td>\n",
       "      <td>77</td>\n",
       "      <td>-0.007816</td>\n",
       "      <td>0.001604</td>\n",
       "      <td>-0.001117</td>\n",
       "      <td>0.002158</td>\n",
       "      <td>-0.002690</td>\n",
       "    </tr>\n",
       "    <tr>\n",
       "      <th>1379</th>\n",
       "      <td>CHA</td>\n",
       "      <td>1962</td>\n",
       "      <td>85</td>\n",
       "      <td>0.000165</td>\n",
       "      <td>0.004904</td>\n",
       "      <td>0.002352</td>\n",
       "      <td>-0.008813</td>\n",
       "      <td>0.012486</td>\n",
       "    </tr>\n",
       "    <tr>\n",
       "      <th>1380</th>\n",
       "      <td>CHN</td>\n",
       "      <td>1962</td>\n",
       "      <td>59</td>\n",
       "      <td>0.003298</td>\n",
       "      <td>-0.003391</td>\n",
       "      <td>0.002497</td>\n",
       "      <td>-0.002944</td>\n",
       "      <td>-0.005119</td>\n",
       "    </tr>\n",
       "  </tbody>\n",
       "</table>\n",
       "</div>"
      ],
      "text/plain": [
       "     teamID  yearID   W        1B        2B        3B        HR        BB\n",
       "1366    KC1    1961  61  0.008502  0.000137  0.002113 -0.007983 -0.007465\n",
       "1367    LAA    1961  70 -0.008502 -0.000137 -0.002113  0.007983  0.007465\n",
       "1377    BAL    1962  77 -0.007816  0.001604 -0.001117  0.002158 -0.002690\n",
       "1379    CHA    1962  85  0.000165  0.004904  0.002352 -0.008813  0.012486\n",
       "1380    CHN    1962  59  0.003298 -0.003391  0.002497 -0.002944 -0.005119"
      ]
     },
     "execution_count": 7,
     "metadata": {},
     "output_type": "execute_result"
    }
   ],
   "source": [
    "stats = pd.read_hdf(os.path.join('data','baseball_team_stats_offensive_players.h5'))\n",
    "stats.head(5)"
   ]
  },
  {
   "cell_type": "code",
   "execution_count": 8,
   "metadata": {
    "deletable": false,
    "editable": false,
    "nbgrader": {
     "checksum": "e58ac0187aa561795c18d30941abb745",
     "grade": false,
     "grade_id": "cell-4944e37eea18ef2c",
     "locked": true,
     "schema_version": 1,
     "solution": false
    }
   },
   "outputs": [
    {
     "data": {
      "text/html": [
       "<div>\n",
       "<style scoped>\n",
       "    .dataframe tbody tr th:only-of-type {\n",
       "        vertical-align: middle;\n",
       "    }\n",
       "\n",
       "    .dataframe tbody tr th {\n",
       "        vertical-align: top;\n",
       "    }\n",
       "\n",
       "    .dataframe thead th {\n",
       "        text-align: right;\n",
       "    }\n",
       "</style>\n",
       "<table border=\"1\" class=\"dataframe\">\n",
       "  <thead>\n",
       "    <tr style=\"text-align: right;\">\n",
       "      <th></th>\n",
       "      <th>playerID</th>\n",
       "      <th>POS</th>\n",
       "      <th>minYear</th>\n",
       "      <th>maxYear</th>\n",
       "      <th>1B</th>\n",
       "      <th>2B</th>\n",
       "      <th>3B</th>\n",
       "      <th>HR</th>\n",
       "      <th>BB</th>\n",
       "      <th>nameFirst</th>\n",
       "      <th>nameLast</th>\n",
       "      <th>salary</th>\n",
       "    </tr>\n",
       "  </thead>\n",
       "  <tbody>\n",
       "    <tr>\n",
       "      <th>0</th>\n",
       "      <td>abreubo01</td>\n",
       "      <td>OF</td>\n",
       "      <td>1996</td>\n",
       "      <td>2014</td>\n",
       "      <td>-0.008202</td>\n",
       "      <td>0.006421</td>\n",
       "      <td>0.001002</td>\n",
       "      <td>-0.003252</td>\n",
       "      <td>0.050501</td>\n",
       "      <td>Bobby</td>\n",
       "      <td>Abreu</td>\n",
       "      <td>9000000.0</td>\n",
       "    </tr>\n",
       "    <tr>\n",
       "      <th>1</th>\n",
       "      <td>abreujo02</td>\n",
       "      <td>1B</td>\n",
       "      <td>2014</td>\n",
       "      <td>2017</td>\n",
       "      <td>0.010626</td>\n",
       "      <td>0.006734</td>\n",
       "      <td>-0.000287</td>\n",
       "      <td>0.015192</td>\n",
       "      <td>-0.020172</td>\n",
       "      <td>Jose</td>\n",
       "      <td>Abreu</td>\n",
       "      <td>8666000.0</td>\n",
       "    </tr>\n",
       "    <tr>\n",
       "      <th>2</th>\n",
       "      <td>ackledu01</td>\n",
       "      <td>2B</td>\n",
       "      <td>2011</td>\n",
       "      <td>2016</td>\n",
       "      <td>-0.015252</td>\n",
       "      <td>-0.007341</td>\n",
       "      <td>0.000254</td>\n",
       "      <td>-0.007980</td>\n",
       "      <td>-0.010525</td>\n",
       "      <td>Dustin</td>\n",
       "      <td>Ackley</td>\n",
       "      <td>2600000.0</td>\n",
       "    </tr>\n",
       "    <tr>\n",
       "      <th>3</th>\n",
       "      <td>adamsma01</td>\n",
       "      <td>1B</td>\n",
       "      <td>2012</td>\n",
       "      <td>2017</td>\n",
       "      <td>0.009914</td>\n",
       "      <td>0.012844</td>\n",
       "      <td>0.004034</td>\n",
       "      <td>0.000221</td>\n",
       "      <td>-0.035555</td>\n",
       "      <td>Matt</td>\n",
       "      <td>Adams</td>\n",
       "      <td>525000.0</td>\n",
       "    </tr>\n",
       "    <tr>\n",
       "      <th>4</th>\n",
       "      <td>adamsru01</td>\n",
       "      <td>SS</td>\n",
       "      <td>2004</td>\n",
       "      <td>2009</td>\n",
       "      <td>-0.007867</td>\n",
       "      <td>-0.001289</td>\n",
       "      <td>0.004160</td>\n",
       "      <td>-0.017533</td>\n",
       "      <td>0.002672</td>\n",
       "      <td>Russ</td>\n",
       "      <td>Adams</td>\n",
       "      <td>329500.0</td>\n",
       "    </tr>\n",
       "  </tbody>\n",
       "</table>\n",
       "</div>"
      ],
      "text/plain": [
       "    playerID POS  minYear  maxYear        1B        2B        3B        HR  \\\n",
       "0  abreubo01  OF     1996     2014 -0.008202  0.006421  0.001002 -0.003252   \n",
       "1  abreujo02  1B     2014     2017  0.010626  0.006734 -0.000287  0.015192   \n",
       "2  ackledu01  2B     2011     2016 -0.015252 -0.007341  0.000254 -0.007980   \n",
       "3  adamsma01  1B     2012     2017  0.009914  0.012844  0.004034  0.000221   \n",
       "4  adamsru01  SS     2004     2009 -0.007867 -0.001289  0.004160 -0.017533   \n",
       "\n",
       "         BB nameFirst nameLast     salary  \n",
       "0  0.050501     Bobby    Abreu  9000000.0  \n",
       "1 -0.020172      Jose    Abreu  8666000.0  \n",
       "2 -0.010525    Dustin   Ackley  2600000.0  \n",
       "3 -0.035555      Matt    Adams   525000.0  \n",
       "4  0.002672      Russ    Adams   329500.0  "
      ]
     },
     "execution_count": 8,
     "metadata": {},
     "output_type": "execute_result"
    }
   ],
   "source": [
    "playerLS = pd.read_hdf(os.path.join('data','baseball_players_offensive_stats.h5'))\n",
    "playerLS.head(5)"
   ]
  },
  {
   "cell_type": "markdown",
   "metadata": {
    "deletable": false,
    "editable": false,
    "nbgrader": {
     "checksum": "6c7eef8daad6984448baf83f4fae00cb",
     "grade": false,
     "grade_id": "cell-417ece2123894e75",
     "locked": true,
     "schema_version": 1,
     "solution": false
    }
   },
   "source": [
    "## Q 2.1\n",
    "\n",
    "### Build a simple linear regression model to predict the number of wins for each entry in `stats` dataframe. Your features should be made up of the columns pertaining to normalized singles, double, triples, HR, and BB rates. (10 marks)\n",
    "\n",
    "To decide which of these terms to include, fit your model on data up to year 2002 and select the best performing model for data from 2003 to 2017. Use the fitted model to define a new [sabermetric](https://en.wikipedia.org/wiki/Sabermetrics) summary: which we'll call Offensive Predicted Wins (OPW). Also list the coefficients of your model"
   ]
  },
  {
   "cell_type": "code",
   "execution_count": 11,
   "metadata": {
    "deletable": false,
    "nbgrader": {
     "checksum": "4de2e579b1a9f3f05413aaebe955490e",
     "grade": true,
     "grade_id": "cell-52166cdc945361b5",
     "locked": false,
     "points": 8,
     "schema_version": 1,
     "solution": true
    }
   },
   "outputs": [
    {
     "name": "stdout",
     "output_type": "stream",
     "text": [
      "['1B', '2B', 'HR', 'BB'] [560.91264818 631.41314133 772.16022192 496.61001727]\n"
     ]
    }
   ],
   "source": [
    "# YOUR CODE HERE\n",
    "fitData = stats[stats['yearID'] <= 2002]\n",
    "testData = stats[stats['yearID'] > 2002]\n",
    "\n",
    "Y_test = testData.W\n",
    "Y_train = fitData.W\n",
    "\n",
    "lm = LinearRegression()\n",
    "x_vars = ['1B', '2B', '3B', 'HR', 'BB']\n",
    "permRes = []\n",
    "\n",
    "for i in range(1, len(x_vars) + 1):\n",
    "    for tup in combinations(x_vars, i):\n",
    "        lis = list(tup)\n",
    "        X_train = fitData[lis]\n",
    "        X_test = testData[lis]\n",
    "        lm.fit(X_train,Y_train)\n",
    "        lm.predict(X_test)\n",
    "        permRes.append((lis, lm.score(X_test, Y_test), lm.coef_))\n",
    "        \n",
    "best = float(\"-inf\")\n",
    "bestPerm = []\n",
    "bestCoef = []\n",
    "\n",
    "for ele in permRes:\n",
    "    if ele[1] > best:\n",
    "        bestPerm = ele[0]\n",
    "        bestCoef = ele[2]\n",
    "        best = ele[1]\n",
    "print(bestPerm, bestCoef)"
   ]
  },
  {
   "cell_type": "markdown",
   "metadata": {
    "deletable": false,
    "nbgrader": {
     "checksum": "d89c33e30ddafe9ac04d8110337adf03",
     "grade": true,
     "grade_id": "cell-38c3d7e997182347",
     "locked": false,
     "points": 2,
     "schema_version": 1,
     "solution": true
    }
   },
   "source": [
    "#### Write your coeficients here in the following order 1B,2B,3B,HR,BB\n",
    "1B|2B|HR|BB\n",
    ":---: |  :---: | :---: |  :---: |\n",
    "560|631|772|496\n",
    "\n",
    "NOTE: 3B was not included in the model with the highest score"
   ]
  },
  {
   "cell_type": "markdown",
   "metadata": {
    "deletable": false,
    "editable": false,
    "nbgrader": {
     "checksum": "945b52c2ae1f862c0a3af2989b6e4af7",
     "grade": false,
     "grade_id": "cell-90df845d4be980dc",
     "locked": true,
     "schema_version": 1,
     "solution": false
    }
   },
   "source": [
    "## Q 2.2\n",
    "\n",
    "### Compute the OPW for each player based on the average rates in the `playerLS` DataFrame (5 marks)\n",
    "\n",
    "Notice that players essentially have the same features as teams, so you can use your model from Q2.1 to perform a prediction. Add this column to the playerLS DataFrame. Call\\Name this colum OPW."
   ]
  },
  {
   "cell_type": "code",
   "execution_count": 12,
   "metadata": {
    "deletable": false,
    "nbgrader": {
     "checksum": "9a42098aae4113b3498097b73150b0d7",
     "grade": true,
     "grade_id": "cell-3791a77df18faed0",
     "locked": false,
     "points": 5,
     "schema_version": 1,
     "solution": true
    }
   },
   "outputs": [
    {
     "data": {
      "text/html": [
       "<div>\n",
       "<style scoped>\n",
       "    .dataframe tbody tr th:only-of-type {\n",
       "        vertical-align: middle;\n",
       "    }\n",
       "\n",
       "    .dataframe tbody tr th {\n",
       "        vertical-align: top;\n",
       "    }\n",
       "\n",
       "    .dataframe thead th {\n",
       "        text-align: right;\n",
       "    }\n",
       "</style>\n",
       "<table border=\"1\" class=\"dataframe\">\n",
       "  <thead>\n",
       "    <tr style=\"text-align: right;\">\n",
       "      <th></th>\n",
       "      <th>playerID</th>\n",
       "      <th>POS</th>\n",
       "      <th>minYear</th>\n",
       "      <th>maxYear</th>\n",
       "      <th>1B</th>\n",
       "      <th>2B</th>\n",
       "      <th>3B</th>\n",
       "      <th>HR</th>\n",
       "      <th>BB</th>\n",
       "      <th>nameFirst</th>\n",
       "      <th>nameLast</th>\n",
       "      <th>salary</th>\n",
       "      <th>OPW</th>\n",
       "    </tr>\n",
       "  </thead>\n",
       "  <tbody>\n",
       "    <tr>\n",
       "      <th>0</th>\n",
       "      <td>abreubo01</td>\n",
       "      <td>OF</td>\n",
       "      <td>1996</td>\n",
       "      <td>2014</td>\n",
       "      <td>-0.008202</td>\n",
       "      <td>0.006421</td>\n",
       "      <td>0.001002</td>\n",
       "      <td>-0.003252</td>\n",
       "      <td>0.050501</td>\n",
       "      <td>Bobby</td>\n",
       "      <td>Abreu</td>\n",
       "      <td>9000000.0</td>\n",
       "      <td>21.798325</td>\n",
       "    </tr>\n",
       "    <tr>\n",
       "      <th>1</th>\n",
       "      <td>abreujo02</td>\n",
       "      <td>1B</td>\n",
       "      <td>2014</td>\n",
       "      <td>2017</td>\n",
       "      <td>0.010626</td>\n",
       "      <td>0.006734</td>\n",
       "      <td>-0.000287</td>\n",
       "      <td>0.015192</td>\n",
       "      <td>-0.020172</td>\n",
       "      <td>Jose</td>\n",
       "      <td>Abreu</td>\n",
       "      <td>8666000.0</td>\n",
       "      <td>11.645192</td>\n",
       "    </tr>\n",
       "    <tr>\n",
       "      <th>2</th>\n",
       "      <td>ackledu01</td>\n",
       "      <td>2B</td>\n",
       "      <td>2011</td>\n",
       "      <td>2016</td>\n",
       "      <td>-0.015252</td>\n",
       "      <td>-0.007341</td>\n",
       "      <td>0.000254</td>\n",
       "      <td>-0.007980</td>\n",
       "      <td>-0.010525</td>\n",
       "      <td>Dustin</td>\n",
       "      <td>Ackley</td>\n",
       "      <td>2600000.0</td>\n",
       "      <td>-24.126328</td>\n",
       "    </tr>\n",
       "    <tr>\n",
       "      <th>3</th>\n",
       "      <td>adamsma01</td>\n",
       "      <td>1B</td>\n",
       "      <td>2012</td>\n",
       "      <td>2017</td>\n",
       "      <td>0.009914</td>\n",
       "      <td>0.012844</td>\n",
       "      <td>0.004034</td>\n",
       "      <td>0.000221</td>\n",
       "      <td>-0.035555</td>\n",
       "      <td>Matt</td>\n",
       "      <td>Adams</td>\n",
       "      <td>525000.0</td>\n",
       "      <td>-4.040900</td>\n",
       "    </tr>\n",
       "    <tr>\n",
       "      <th>4</th>\n",
       "      <td>adamsru01</td>\n",
       "      <td>SS</td>\n",
       "      <td>2004</td>\n",
       "      <td>2009</td>\n",
       "      <td>-0.007867</td>\n",
       "      <td>-0.001289</td>\n",
       "      <td>0.004160</td>\n",
       "      <td>-0.017533</td>\n",
       "      <td>0.002672</td>\n",
       "      <td>Russ</td>\n",
       "      <td>Adams</td>\n",
       "      <td>329500.0</td>\n",
       "      <td>-17.208019</td>\n",
       "    </tr>\n",
       "  </tbody>\n",
       "</table>\n",
       "</div>"
      ],
      "text/plain": [
       "    playerID POS  minYear  maxYear        1B        2B        3B        HR  \\\n",
       "0  abreubo01  OF     1996     2014 -0.008202  0.006421  0.001002 -0.003252   \n",
       "1  abreujo02  1B     2014     2017  0.010626  0.006734 -0.000287  0.015192   \n",
       "2  ackledu01  2B     2011     2016 -0.015252 -0.007341  0.000254 -0.007980   \n",
       "3  adamsma01  1B     2012     2017  0.009914  0.012844  0.004034  0.000221   \n",
       "4  adamsru01  SS     2004     2009 -0.007867 -0.001289  0.004160 -0.017533   \n",
       "\n",
       "         BB nameFirst nameLast     salary        OPW  \n",
       "0  0.050501     Bobby    Abreu  9000000.0  21.798325  \n",
       "1 -0.020172      Jose    Abreu  8666000.0  11.645192  \n",
       "2 -0.010525    Dustin   Ackley  2600000.0 -24.126328  \n",
       "3 -0.035555      Matt    Adams   525000.0  -4.040900  \n",
       "4  0.002672      Russ    Adams   329500.0 -17.208019  "
      ]
     },
     "execution_count": 12,
     "metadata": {},
     "output_type": "execute_result"
    }
   ],
   "source": [
    "# YOUR CODE HERE\n",
    "playerLS['OPW'] = (547 * playerLS['1B']) + (612 * playerLS['2B']) + (766 * playerLS['HR']) + (492 * playerLS['BB'])\n",
    "playerLS.head(5)"
   ]
  },
  {
   "cell_type": "markdown",
   "metadata": {
    "deletable": false,
    "editable": false,
    "nbgrader": {
     "checksum": "6a5f4a33bd8a26cc446bfe13465fd283",
     "grade": false,
     "grade_id": "cell-16bff38876cafa1b",
     "locked": true,
     "schema_version": 1,
     "solution": false
    }
   },
   "source": [
    "## Q 2.3\n",
    "### Plot and describe the relationship between the median salary (in millions) and the predicted number of wins for a player. (10 marks)\n",
    "Player should be active in the seasons between 2010 and 2012 inclusive, and should have an experience of at least 5 years. "
   ]
  },
  {
   "cell_type": "code",
   "execution_count": 18,
   "metadata": {
    "deletable": false,
    "nbgrader": {
     "checksum": "9e95514d29f0f439243a043b45cbc9fd",
     "grade": true,
     "grade_id": "cell-b2ae80ad936a0aa9",
     "locked": false,
     "points": 5,
     "schema_version": 1,
     "solution": true
    }
   },
   "outputs": [
    {
     "data": {
      "image/png": "[encoded data removed]",
      "text/plain": [
       "<Figure size 720x576 with 1 Axes>"
      ]
     },
     "metadata": {},
     "output_type": "display_data"
    }
   ],
   "source": [
    "# YOUR CODE HERE\n",
    "newFrame = playerLS[(playerLS['maxYear'] - playerLS['minYear'] >= 5) & (((playerLS['maxYear'] >= 2010) & (playerLS['minYear'] <= 2012)) | ((playerLS['minYear']<=2010)&(playerLS['maxYear']>=2012)))]\n",
    "y_plot = newFrame['salary']/1000000\n",
    "x_plot = newFrame['OPW']\n",
    "\n",
    "plt.figure(figsize=(10,8))\n",
    "ax = plt.subplot(111)\n",
    "ax.scatter(x_plot, y_plot)\n",
    "\n",
    "fit = np.polyfit(x_plot, y_plot, deg=1)\n",
    "ax.plot(x_plot, fit[0] * x_plot + fit[1], color='red')\n",
    "# http://matthiaseisen.com/pp/patterns/p0170/\n",
    "\n",
    "ax.set_xlabel(\"predicted wins\", fontsize=22)\n",
    "ax.set_ylabel(\"salary (millions $)\",fontsize=22)\n",
    "ax.set_title(\"predicted wins v salary (2010-2012 experienced players)\",fontsize=24)\n",
    "ax.set_xticklabels(ax.get_xticks(),fontsize=14)\n",
    "ax.set_yticklabels(ax.get_yticks(),fontsize=14)\n",
    "sns.despine()"
   ]
  },
  {
   "cell_type": "markdown",
   "metadata": {
    "deletable": false,
    "nbgrader": {
     "checksum": "4070cf6e1a3a9fc0e473ae1ed3e197de",
     "grade": true,
     "grade_id": "cell-f062d16dbb6d91a5",
     "locked": false,
     "points": 5,
     "schema_version": 1,
     "solution": true
    }
   },
   "source": [
    "####  Write your description here\n",
    "The plot shows that their definitely seems to be an increase in salary per predicted wins of a player (at least in relation to the players being examined)."
   ]
  },
  {
   "cell_type": "markdown",
   "metadata": {
    "deletable": false,
    "editable": false,
    "nbgrader": {
     "checksum": "ba73f19f6bec7da63992a31477c72276",
     "grade": false,
     "grade_id": "cell-aea1be7375d09a37",
     "locked": true,
     "schema_version": 1,
     "solution": false
    }
   },
   "source": [
    "## Q 2.4 \n",
    "#### <font color='magenta'> Pick a team of 9 players such that you have a player for each of the 5 positions: C, 1B, 2B, 3B and SS, and 4 players from position OF</font>. The total budget you have for team salary is 25 million dollars.  Try to optimize for the expected/average OPW. (20 marks)  <font color='red'>hard</font>\n",
    "\n",
    "There are many ways to do this, any reasonable optimization will be worth marks, along with the explanation of why and what are you doing. You should write your explanation in the text block provided"
   ]
  },
  {
   "cell_type": "code",
   "execution_count": 19,
   "metadata": {
    "deletable": false,
    "nbgrader": {
     "checksum": "cf756a39ad3ce8f8b9b8b3c5d82181db",
     "grade": true,
     "grade_id": "cell-b333924ed9dbb3f5",
     "locked": false,
     "points": 15,
     "schema_version": 1,
     "solution": true
    }
   },
   "outputs": [
    {
     "name": "stdout",
     "output_type": "stream",
     "text": [
      "totalSalary\t\t team mean OPW rating\n",
      "24568167.0\t\t 31.181293568675034\n",
      "\n",
      "Team roster (playerID : Position)\n",
      "avilaal01 : CE\t\tthomafr04 : 1B\t\tcarewro01 : 2B\n",
      "martied01 : 3B\t\tblausje01 : SS\t\tharpebr03 : OF\n",
      "phamth01 : OF\t\ttroutmi01 : OF\t\tdykstle01 : OF\n"
     ]
    }
   ],
   "source": [
    "# YOUR CODE HERE\n",
    "## code used enough to create functions\n",
    "def nextPlayer(frame):\n",
    "    playerID = frame['OPW'].idxmax()\n",
    "    pos = frame.loc[playerID]\n",
    "    frame = frame.drop(playerID)\n",
    "    return (frame, pos)\n",
    "\n",
    "def calcSalary(players):\n",
    "    totalSalary = 0\n",
    "    for player in players.keys():\n",
    "        totalSalary = totalSalary + players[player]['salary']\n",
    "    return totalSalary\n",
    "\n",
    "def calcOPW(players):\n",
    "    totalOPW = 0\n",
    "    for player in players.keys():\n",
    "        totalOPW = totalOPW + players[player]['OPW']\n",
    "    return totalOPW\n",
    "\n",
    "## setting up the data frames and first roster of players\n",
    "players = {}\n",
    "frames = {}\n",
    "\n",
    "frames['CE'] = playerLS[playerLS['POS'] == 'C']\n",
    "frames['1B'] = playerLS[playerLS['POS'] == '1B']\n",
    "frames['2B'] = playerLS[playerLS['POS'] == '2B']\n",
    "frames['3B'] = playerLS[playerLS['POS'] == '3B']\n",
    "frames['SS'] = playerLS[playerLS['POS'] == 'SS']\n",
    "frames['OF'] = playerLS[playerLS['POS'] == 'OF']\n",
    "\n",
    "frames['CE'], players[\"CE\"] = nextPlayer(frames['CE'])\n",
    "frames['1B'], players[\"1B\"] = nextPlayer(frames['1B'])\n",
    "frames['2B'], players[\"2B\"] = nextPlayer(frames['2B'])\n",
    "frames['3B'], players[\"3B\"] = nextPlayer(frames['3B'])\n",
    "frames['SS'], players[\"SS\"] = nextPlayer(frames['SS'])\n",
    "frames['OF'], players[\"OF1\"] = nextPlayer(frames['OF'])\n",
    "frames['OF'], players[\"OF2\"] = nextPlayer(frames['OF'])\n",
    "frames['OF'], players[\"OF3\"] = nextPlayer(frames['OF'])\n",
    "frames['OF'], players[\"OF4\"] = nextPlayer(frames['OF'])\n",
    "\n",
    "totalSalary = calcSalary(players)\n",
    "\n",
    "## while loop for when salary is greater then 25 million\n",
    "currentRep = None\n",
    "while totalSalary > 25000000:\n",
    "    largest = float(\"-inf\")\n",
    "    for player in players.keys():\n",
    "        if players[player][\"salary\"] > largest:\n",
    "            largest = players[player][\"salary\"]\n",
    "            currentRep = player\n",
    "    \n",
    "    frames[currentRep[0:2]], players[currentRep] = nextPlayer(frames[currentRep[0:2]])\n",
    "    totalSalary = calcSalary(players)\n",
    "    \n",
    "## This entire section is just formatting the output nicely\n",
    "print(\"totalSalary\\t\\t\", \"team mean OPW rating\")  \n",
    "print(str(totalSalary) + \"\\t\\t\", calcOPW(players)/9)\n",
    "print(\"\")\n",
    "print(\"Team roster (playerID : Position)\")\n",
    "rowSize = 0\n",
    "for player in players.keys():\n",
    "    if rowSize >= 2:\n",
    "        print(players[player][\"playerID\"] + \" : \" + player[0:2])\n",
    "        rowSize = 0\n",
    "    else:\n",
    "        print(players[player][\"playerID\"] + \" : \" + player[0:2] + \"\\t\\t\", end='', flush=True)\n",
    "        rowSize = rowSize + 1"
   ]
  },
  {
   "cell_type": "markdown",
   "metadata": {
    "deletable": false,
    "nbgrader": {
     "checksum": "5c36b1fbfca9d9390fcc1b699c4e4029",
     "grade": true,
     "grade_id": "cell-e72ccdc28cbe75bc",
     "locked": false,
     "points": 5,
     "schema_version": 1,
     "solution": true
    }
   },
   "source": [
    "#### Your explanation here\n",
    "\n",
    "The basic idea of this solution is that it first divides players into their positions and creates a dataframe for each of those positions. It then starts with the greediest solution (largest OPW value) for each players (meaning it has the highest possible OPW mean) and removes the players it selects from the appropriate dataframe. It then goes into a loop where while the total salary is greater then 25 million it finds the player with the greatest salary removes them from the team and finds the next best player for that position based on OPW (removing them from the appropriate dataframe). it repeats this until the total salary is less then 25 million.\n",
    "\n",
    "Issues:\n",
    "\n",
    "Its not optimal as it doesnt take into account the possibility lower salaried players having slightly lower OPW's allowing for a better player in another position. It's also possible for 1 position to have many high valued players and become empty before the salary is reached meaning that an error would be thrown, This is extremely unlikely in a real world scenario so is not taken into account since it wouldnt be worth the effort to implement."
   ]
  },
  {
   "cell_type": "markdown",
   "metadata": {
    "deletable": false,
    "editable": false,
    "nbgrader": {
     "checksum": "c8c4e04c5cb9507cef1c599a57faf9dd",
     "grade": false,
     "grade_id": "cell-ddd8a3ae0ac391a2",
     "locked": true,
     "schema_version": 1,
     "solution": false
    }
   },
   "source": [
    "## Part 3 Classification (20 marks)"
   ]
  },
  {
   "cell_type": "markdown",
   "metadata": {
    "deletable": false,
    "editable": false,
    "nbgrader": {
     "checksum": "5d3ac205be9511803f304728ea4667ae",
     "grade": false,
     "grade_id": "cell-3ff7195267b5d9dc",
     "locked": true,
     "schema_version": 1,
     "solution": false
    }
   },
   "source": [
    "In this example we will use the [ credit card clients ](https://archive.ics.uci.edu/ml/datasets/default+of+credit+card+clients) dataset.\n",
    "\n",
    "This dataset has 24 coulmns. The last column named `DEFAULT` is the target variable which takes binary value, 1 or 0, indicating whether the client will default or not next month. Your task is **create a KNN classifier** for this dataset in Q3. You don't need to write the code to download and read the dataset as we have done this for you. You will need to work on the dataframe 'df_credit'.\n",
    "\n",
    "Description of **df_credit** dataframe\n",
    "\n",
    "Field| Description (type of values it takes)\n",
    ":---: |  :---: |\n",
    "LIMIT_BAL| Amount of the given credit\n",
    "SEX| Gender (1 = male; 2 = female). \n",
    "EDUCATION|  Education (1 = graduate school; 2 = university; 3 = high school; 4 = others)\n",
    "MARRIAGE|  Marital status (1 = married; 2 = single; 3 = others)\n",
    "AGE| Age (year)\n",
    "PAY_0| History of past payment, last month ( -1 = pay duly; 1 = payment delay for one month; 2 = payment delay for two months; . . .; 8 = payment delay for eight months; 9 = payment delay for nine months and above)\n",
    "PAY_2| History of past payment, 2 month back (same as PAY_0)\n",
    "PAY_3| History of past payment, 3 month back (same as PAY_0)\n",
    "PAY_4| History of past payment, 4 month back (same as PAY_0)\n",
    "PAY_5| History of past payment, 5 month back (same as PAY_0)\n",
    "PAY_6| History of past payment, 6 month back (same as PAY_0)\n",
    "BILL_AMT1|  Amount of bill statement, last month\n",
    "BILL_AMT2|  Amount of bill statement, 2 month back\n",
    "BILL_AMT3|  Amount of bill statement, 3 month back\n",
    "BILL_AMT4|  Amount of bill statement, 4 month back\n",
    "BILL_AMT5|  Amount of bill statement, 5 month back\n",
    "BILL_AMT6|  Amount of bill statement, 6 month back\n",
    "PAY_AMT1|  Amount of previous payment, last month\n",
    "PAY_AMT2|  Amount of previous payment, 2 month back\n",
    "PAY_AMT3|  Amount of previous payment, 3 month back\n",
    "PAY_AMT4|  Amount of previous payment, 4 month back\n",
    "PAY_AMT5|  Amount of previous payment, 5 month back\n",
    "PAY_AMT6|  Amount of previous payment, 6 month back\n",
    "DEFAULT|  Will deafult this time (Yes = 1, No = 0)\n",
    "\n",
    "\n",
    "##### You will need to create a training and test set yourself. Refer to the [lab 6](https://cs.anu.edu.au/courses/comp2420/labs/lab-6/) exercise"
   ]
  },
  {
   "cell_type": "code",
   "execution_count": 13,
   "metadata": {
    "deletable": false,
    "editable": false,
    "nbgrader": {
     "checksum": "a66b92e75ee651f26f6a9c3a7ab41850",
     "grade": false,
     "grade_id": "cell-c9aee3b9418d805c",
     "locked": true,
     "schema_version": 1,
     "solution": false
    }
   },
   "outputs": [
    {
     "data": {
      "text/html": [
       "<div>\n",
       "<style scoped>\n",
       "    .dataframe tbody tr th:only-of-type {\n",
       "        vertical-align: middle;\n",
       "    }\n",
       "\n",
       "    .dataframe tbody tr th {\n",
       "        vertical-align: top;\n",
       "    }\n",
       "\n",
       "    .dataframe thead th {\n",
       "        text-align: right;\n",
       "    }\n",
       "</style>\n",
       "<table border=\"1\" class=\"dataframe\">\n",
       "  <thead>\n",
       "    <tr style=\"text-align: right;\">\n",
       "      <th></th>\n",
       "      <th>LIMIT_BAL</th>\n",
       "      <th>SEX</th>\n",
       "      <th>EDUCATION</th>\n",
       "      <th>MARRIAGE</th>\n",
       "      <th>AGE</th>\n",
       "      <th>PAY_0</th>\n",
       "      <th>PAY_2</th>\n",
       "      <th>PAY_3</th>\n",
       "      <th>PAY_4</th>\n",
       "      <th>PAY_5</th>\n",
       "      <th>...</th>\n",
       "      <th>BILL_AMT4</th>\n",
       "      <th>BILL_AMT5</th>\n",
       "      <th>BILL_AMT6</th>\n",
       "      <th>PAY_AMT1</th>\n",
       "      <th>PAY_AMT2</th>\n",
       "      <th>PAY_AMT3</th>\n",
       "      <th>PAY_AMT4</th>\n",
       "      <th>PAY_AMT5</th>\n",
       "      <th>PAY_AMT6</th>\n",
       "      <th>DEFAULT</th>\n",
       "    </tr>\n",
       "    <tr>\n",
       "      <th>ID</th>\n",
       "      <th></th>\n",
       "      <th></th>\n",
       "      <th></th>\n",
       "      <th></th>\n",
       "      <th></th>\n",
       "      <th></th>\n",
       "      <th></th>\n",
       "      <th></th>\n",
       "      <th></th>\n",
       "      <th></th>\n",
       "      <th></th>\n",
       "      <th></th>\n",
       "      <th></th>\n",
       "      <th></th>\n",
       "      <th></th>\n",
       "      <th></th>\n",
       "      <th></th>\n",
       "      <th></th>\n",
       "      <th></th>\n",
       "      <th></th>\n",
       "      <th></th>\n",
       "    </tr>\n",
       "  </thead>\n",
       "  <tbody>\n",
       "    <tr>\n",
       "      <th>1</th>\n",
       "      <td>20000</td>\n",
       "      <td>2</td>\n",
       "      <td>2</td>\n",
       "      <td>1</td>\n",
       "      <td>24</td>\n",
       "      <td>2</td>\n",
       "      <td>2</td>\n",
       "      <td>-1</td>\n",
       "      <td>-1</td>\n",
       "      <td>-2</td>\n",
       "      <td>...</td>\n",
       "      <td>0</td>\n",
       "      <td>0</td>\n",
       "      <td>0</td>\n",
       "      <td>0</td>\n",
       "      <td>689</td>\n",
       "      <td>0</td>\n",
       "      <td>0</td>\n",
       "      <td>0</td>\n",
       "      <td>0</td>\n",
       "      <td>1</td>\n",
       "    </tr>\n",
       "    <tr>\n",
       "      <th>2</th>\n",
       "      <td>120000</td>\n",
       "      <td>2</td>\n",
       "      <td>2</td>\n",
       "      <td>2</td>\n",
       "      <td>26</td>\n",
       "      <td>-1</td>\n",
       "      <td>2</td>\n",
       "      <td>0</td>\n",
       "      <td>0</td>\n",
       "      <td>0</td>\n",
       "      <td>...</td>\n",
       "      <td>3272</td>\n",
       "      <td>3455</td>\n",
       "      <td>3261</td>\n",
       "      <td>0</td>\n",
       "      <td>1000</td>\n",
       "      <td>1000</td>\n",
       "      <td>1000</td>\n",
       "      <td>0</td>\n",
       "      <td>2000</td>\n",
       "      <td>1</td>\n",
       "    </tr>\n",
       "    <tr>\n",
       "      <th>3</th>\n",
       "      <td>90000</td>\n",
       "      <td>2</td>\n",
       "      <td>2</td>\n",
       "      <td>2</td>\n",
       "      <td>34</td>\n",
       "      <td>0</td>\n",
       "      <td>0</td>\n",
       "      <td>0</td>\n",
       "      <td>0</td>\n",
       "      <td>0</td>\n",
       "      <td>...</td>\n",
       "      <td>14331</td>\n",
       "      <td>14948</td>\n",
       "      <td>15549</td>\n",
       "      <td>1518</td>\n",
       "      <td>1500</td>\n",
       "      <td>1000</td>\n",
       "      <td>1000</td>\n",
       "      <td>1000</td>\n",
       "      <td>5000</td>\n",
       "      <td>0</td>\n",
       "    </tr>\n",
       "    <tr>\n",
       "      <th>4</th>\n",
       "      <td>50000</td>\n",
       "      <td>2</td>\n",
       "      <td>2</td>\n",
       "      <td>1</td>\n",
       "      <td>37</td>\n",
       "      <td>0</td>\n",
       "      <td>0</td>\n",
       "      <td>0</td>\n",
       "      <td>0</td>\n",
       "      <td>0</td>\n",
       "      <td>...</td>\n",
       "      <td>28314</td>\n",
       "      <td>28959</td>\n",
       "      <td>29547</td>\n",
       "      <td>2000</td>\n",
       "      <td>2019</td>\n",
       "      <td>1200</td>\n",
       "      <td>1100</td>\n",
       "      <td>1069</td>\n",
       "      <td>1000</td>\n",
       "      <td>0</td>\n",
       "    </tr>\n",
       "    <tr>\n",
       "      <th>5</th>\n",
       "      <td>50000</td>\n",
       "      <td>1</td>\n",
       "      <td>2</td>\n",
       "      <td>1</td>\n",
       "      <td>57</td>\n",
       "      <td>-1</td>\n",
       "      <td>0</td>\n",
       "      <td>-1</td>\n",
       "      <td>0</td>\n",
       "      <td>0</td>\n",
       "      <td>...</td>\n",
       "      <td>20940</td>\n",
       "      <td>19146</td>\n",
       "      <td>19131</td>\n",
       "      <td>2000</td>\n",
       "      <td>36681</td>\n",
       "      <td>10000</td>\n",
       "      <td>9000</td>\n",
       "      <td>689</td>\n",
       "      <td>679</td>\n",
       "      <td>0</td>\n",
       "    </tr>\n",
       "  </tbody>\n",
       "</table>\n",
       "<p>5 rows × 24 columns</p>\n",
       "</div>"
      ],
      "text/plain": [
       "    LIMIT_BAL  SEX  EDUCATION  MARRIAGE  AGE  PAY_0  PAY_2  PAY_3  PAY_4  \\\n",
       "ID                                                                         \n",
       "1       20000    2          2         1   24      2      2     -1     -1   \n",
       "2      120000    2          2         2   26     -1      2      0      0   \n",
       "3       90000    2          2         2   34      0      0      0      0   \n",
       "4       50000    2          2         1   37      0      0      0      0   \n",
       "5       50000    1          2         1   57     -1      0     -1      0   \n",
       "\n",
       "    PAY_5   ...     BILL_AMT4  BILL_AMT5  BILL_AMT6  PAY_AMT1  PAY_AMT2  \\\n",
       "ID          ...                                                           \n",
       "1      -2   ...             0          0          0         0       689   \n",
       "2       0   ...          3272       3455       3261         0      1000   \n",
       "3       0   ...         14331      14948      15549      1518      1500   \n",
       "4       0   ...         28314      28959      29547      2000      2019   \n",
       "5       0   ...         20940      19146      19131      2000     36681   \n",
       "\n",
       "    PAY_AMT3  PAY_AMT4  PAY_AMT5  PAY_AMT6  DEFAULT  \n",
       "ID                                                   \n",
       "1          0         0         0         0        1  \n",
       "2       1000      1000         0      2000        1  \n",
       "3       1000      1000      1000      5000        0  \n",
       "4       1200      1100      1069      1000        0  \n",
       "5      10000      9000       689       679        0  \n",
       "\n",
       "[5 rows x 24 columns]"
      ]
     },
     "execution_count": 13,
     "metadata": {},
     "output_type": "execute_result"
    }
   ],
   "source": [
    "df_credit = pd.read_hdf(os.path.join('data','df_credit.h5'))\n",
    "df_credit.head()"
   ]
  },
  {
   "cell_type": "markdown",
   "metadata": {
    "deletable": false,
    "editable": false,
    "nbgrader": {
     "checksum": "ac73a611b11c785caa84d4eaf1233753",
     "grade": false,
     "grade_id": "cell-ec6a439d48f49781",
     "locked": true,
     "schema_version": 1,
     "solution": false
    }
   },
   "source": [
    "## Q 3.1\n",
    "#### Write a **ten-fold cross validation** to estimate the optimal value for $k$ for the data set. <font color='magenta'>You need to consider only values between 20 to 50(inclusive) for $k$.</font>(10 marks) \n",
    "\n",
    "##### You will need to create a training and test set yourself. Refer to the [lab 6](https://cs.anu.edu.au/courses/comp2420/labs/lab-6/) exercise\n",
    "\n",
    "***Note*** Keep in mind optimal value of $k$ depends on $d$, where $d$ is the number of features used."
   ]
  },
  {
   "cell_type": "code",
   "execution_count": 14,
   "metadata": {
    "deletable": false,
    "nbgrader": {
     "checksum": "c18d99c46a05593581dc9fd64f74293f",
     "grade": true,
     "grade_id": "cell-238c1003bd3cb6f0",
     "locked": false,
     "points": 10,
     "schema_version": 1,
     "solution": true
    }
   },
   "outputs": [
    {
     "name": "stdout",
     "output_type": "stream",
     "text": [
      "the optimal k for d =  10 is 21\n"
     ]
    }
   ],
   "source": [
    "# YOUR CODE HERE\n",
    "from sklearn.metrics import make_scorer, accuracy_score\n",
    "\n",
    "# best k for a specific d (d = 10)\n",
    "d = 10\n",
    "columns = df_credit.columns\n",
    "X = df_credit[columns[:d]]\n",
    "Y = df_credit.DEFAULT\n",
    "X_train, X_test, Y_train, Y_test = train_test_split(X, Y, test_size=0.33, random_state = 3)\n",
    "\n",
    "k_set = [i for i in range(20,51)]\n",
    "performance = []\n",
    "for k in k_set:\n",
    "    knn_model = KNeighborsClassifier(n_neighbors=k)\n",
    "    score = cross_val_score(knn_model, X_train, Y_train, cv=10, scoring=make_scorer(accuracy_score))\n",
    "    performance.append(np.mean(score))\n",
    "    \n",
    "best_k = k_set[np.argmax(performance)]\n",
    "print('the optimal k for d = ', d ,'is',best_k)\n",
    "\n",
    "# raise NotImplementedError()"
   ]
  },
  {
   "cell_type": "markdown",
   "metadata": {
    "deletable": false,
    "editable": false,
    "nbgrader": {
     "checksum": "be5d9db1d6f154e6a287fffac738f3de",
     "grade": false,
     "grade_id": "cell-369deebe8768078e",
     "locked": true,
     "schema_version": 1,
     "solution": false
    }
   },
   "source": [
    "## Q 3.2 \n",
    "#### Create a boxplot showing training scores for the optimal $k$ for each $d$-dimensional subspace with $d$ ranging from one to 23. <font color='magenta'>You need to consider only values between 20 to 50 (inclusive) for $k$.</font> (5 marks)\n",
    "The plot should have the scores on the y-axis and the different dimensions $d$ on the x-axis. You should increase the features incrementally -- this exercise needs you to start from one feature and increase the number of features to 23 incrementally."
   ]
  },
  {
   "cell_type": "code",
   "execution_count": 15,
   "metadata": {
    "collapsed": true,
    "deletable": false,
    "nbgrader": {
     "checksum": "de7c087733197f735d9bc1c5293ef09a",
     "grade": true,
     "grade_id": "cell-59cf95f91b2d5884",
     "locked": false,
     "points": 5,
     "schema_version": 1,
     "solution": true
    }
   },
   "outputs": [],
   "source": [
    "# YOUR CODE HERE\n",
    "columns = df_credit.columns\n",
    "best_k = []\n",
    "best_performance = []\n",
    "k_set = [i for i in range(20,51)]\n",
    "dimensions = [i for i in range(1,24)]\n",
    "# for each dimension，find the best k and its performance\n",
    "for d in dimensions:\n",
    "    X = df_credit[columns[:d]]\n",
    "    Y = df_credit.DEFAULT\n",
    "    X_train, X_test, Y_train, Y_test = train_test_split(X, Y, test_size=0.33, random_state = 3)\n",
    "    \n",
    "    performance = []\n",
    "    mean_performance = []\n",
    "    for k in k_set:\n",
    "        knn_model = KNeighborsClassifier(n_neighbors=k)\n",
    "        score = cross_val_score(knn_model, X_train, Y_train, cv=10, scoring=make_scorer(accuracy_score))\n",
    "        mean_performance.append(np.mean(score))\n",
    "        performance.append(score)\n",
    "    \n",
    "    # (best_k, dimension)\n",
    "    best_k.append(k_set[np.argmax(mean_performance)])\n",
    "    best_performance.append(performance[np.argmax(mean_performance)])\n",
    "# raise NotImplementedError()"
   ]
  },
  {
   "cell_type": "code",
   "execution_count": 16,
   "metadata": {},
   "outputs": [
    {
     "data": {
      "image/png": "[encoded data removed]",
      "text/plain": [
       "<Figure size 720x576 with 1 Axes>"
      ]
     },
     "metadata": {},
     "output_type": "display_data"
    }
   ],
   "source": [
    "# show the performance for best k in each dimension\n",
    "plt.figure(figsize=(10,8))\n",
    "ax = plt.subplot(111)\n",
    "ax.boxplot(best_performance, labels = dimensions)\n",
    "ax.set_xlabel(\"dimensions\", fontsize=22)\n",
    "ax.set_ylabel(\"score\",fontsize=22)\n",
    "ax.set_title(\"training scores for the optimal k for each d-dimensional subspace\",fontsize=24)\n",
    "ax.set_xticklabels(ax.get_xticks(),fontsize=14)\n",
    "ax.set_yticklabels(ax.get_yticks(),fontsize=14)\n",
    "sns.despine()"
   ]
  },
  {
   "cell_type": "markdown",
   "metadata": {
    "deletable": false,
    "editable": false,
    "nbgrader": {
     "checksum": "619d27bd4ad42f39704dd547c105a97d",
     "grade": false,
     "grade_id": "cell-901d669db9f55c1a",
     "locked": true,
     "schema_version": 1,
     "solution": false
    }
   },
   "source": [
    "## Q 3.3\n",
    "\n",
    "#### Evaluate your performance on test set with best ($k$,$d$) pair. (5 marks)\n",
    "\n",
    "Additionally, write a brief discussion of your conclusions to the questions and tasks in Q3.1 and Q3.2 in 100 words or less each."
   ]
  },
  {
   "cell_type": "code",
   "execution_count": 17,
   "metadata": {
    "deletable": false,
    "nbgrader": {
     "checksum": "4e16275563758259ce924d35ed592854",
     "grade": true,
     "grade_id": "cell-09b682d20897827c",
     "locked": false,
     "points": 2.5,
     "schema_version": 1,
     "solution": true
    }
   },
   "outputs": [
    {
     "name": "stdout",
     "output_type": "stream",
     "text": [
      "best (k,d) pair: 21 , 11\n",
      "the performance for best (k,d) pair is: 0.798181754593107\n"
     ]
    }
   ],
   "source": [
    "# YOUR CODE HERE\n",
    "max_score = 0\n",
    "max_dimension_index = 0\n",
    "# find the dimension that has best k peformance\n",
    "for index in range(len(best_performance)):\n",
    "    if np.mean(best_performance[index]) > max_score:\n",
    "        max_score = np.mean(best_performance[index])\n",
    "        max_dimension_index = index\n",
    "\n",
    "print('best (k,d) pair:', best_k[max_dimension_index], ',', dimensions[max_dimension_index])\n",
    "knn_model = KNeighborsClassifier(n_neighbors=best_k[max_dimension_index])\n",
    "X = df_credit[columns[:dimensions[max_dimension_index]]]\n",
    "Y = df_credit.DEFAULT\n",
    "X_train, X_test, Y_train, Y_test = train_test_split(X, Y, test_size=0.33, random_state = 3)\n",
    "\n",
    "score = cross_val_score(knn_model, X_test, Y_test, cv=10, scoring=make_scorer(accuracy_score))\n",
    "print('the performance for best (k,d) pair is:', np.mean(score))\n",
    "# raise NotImplementedError()"
   ]
  },
  {
   "cell_type": "markdown",
   "metadata": {
    "deletable": false,
    "nbgrader": {
     "checksum": "40ff50ba6132b70f5702472abef5429b",
     "grade": true,
     "grade_id": "cell-4578d93d7e22077d",
     "locked": false,
     "points": 2.5,
     "schema_version": 1,
     "solution": true
    }
   },
   "source": [
    "YOUR ANSWER HERE\n",
    "\n",
    "For each dimension subspace, the optimal k values are different. And the scores of them are various as well. \n",
    "\n",
    "It seems that the optimal k values for the dimension subspaces ranging from 6 to 11 have significantly better performance than other optimal k values, which means they do better classification jobs on the training data. However, it is still uncertain if they work well on the test set and new data (no overfit)."
   ]
  },
  {
   "cell_type": "markdown",
   "metadata": {
    "deletable": false,
    "editable": false,
    "nbgrader": {
     "checksum": "607fd04b27140a0093f5ee5f39594db0",
     "grade": false,
     "grade_id": "cell-1616b549d3cc4b35",
     "locked": true,
     "schema_version": 1,
     "solution": false
    }
   },
   "source": [
    "## Part 4 K-Means (10 marks)"
   ]
  },
  {
   "cell_type": "markdown",
   "metadata": {
    "deletable": false,
    "editable": false,
    "nbgrader": {
     "checksum": "fb31ef6d5bc653b43d1b0610a7ce2c27",
     "grade": false,
     "grade_id": "cell-90e26c994e0bf556",
     "locked": true,
     "schema_version": 1,
     "solution": false
    }
   },
   "source": [
    "We will use the standard [breast cancer data set](http://scikit-learn.org/stable/modules/generated/sklearn.datasets.load_breast_cancer.html), from sklearn. We have already loaded the datset for you. $X$ contains all the features."
   ]
  },
  {
   "cell_type": "code",
   "execution_count": 18,
   "metadata": {
    "collapsed": true,
    "deletable": false,
    "editable": false,
    "nbgrader": {
     "checksum": "a5d0223cd400fd3242fe561ddc39c95a",
     "grade": false,
     "grade_id": "cell-6d42d93e68882109",
     "locked": true,
     "schema_version": 1,
     "solution": false
    }
   },
   "outputs": [],
   "source": [
    "breast_cancer = datasets.load_breast_cancer()\n",
    "X = scale(breast_cancer.data)"
   ]
  },
  {
   "cell_type": "markdown",
   "metadata": {
    "deletable": false,
    "editable": false,
    "nbgrader": {
     "checksum": "e098e3334e36425bb6639ab6dc445deb",
     "grade": false,
     "grade_id": "cell-700abab4e616a887",
     "locked": true,
     "schema_version": 1,
     "solution": false
    }
   },
   "source": [
    "## Q 4.1 \n",
    "#### Implement K-Means clustering for digits data. (10 marks) <font color='red'>slightly hard</font>\n",
    "\n",
    "Complete the function kmeans below.\n",
    " \n",
    "***Note:*** \n",
    "- You are **not allowed** to use any of the **sklearn's pre-implemented algorithms or functions**. \n",
    "- You are **not allowed** to use any pre-implemented **k-means** algorithm from **any module** .\n",
    "- You **should** use the **numpy** library to do matrix operations and calculations.\n",
    "- <font color='magenta'> You **should** use some smart ways for initializations.</font>"
   ]
  },
  {
   "cell_type": "code",
   "execution_count": 19,
   "metadata": {
    "collapsed": true,
    "deletable": false,
    "nbgrader": {
     "checksum": "c9023d27db106ffa00aa92fe66a85b2f",
     "grade": true,
     "grade_id": "cell-fe0a40c3c81ef91d",
     "locked": false,
     "points": 10,
     "schema_version": 1,
     "solution": true
    }
   },
   "outputs": [],
   "source": [
    "def kmeans(X, n_cluster, random_seed=2, n_init=100):\n",
    "    '''\n",
    "    Function calculates the centroids after performing k-means on the given dataset. \n",
    "    Function returns two values new calculated centers and labels for each datapoint.\n",
    "    If we have n_cluster = 4 then labels from algorithm will correspond to values 0,1,2 and 3\n",
    "    \n",
    "    Args:\n",
    "        X: np.array representing set of input data\n",
    "        n_cluster: number of clusters to use for clustering\n",
    "        random_seed: random seed to use for calling random function in numpy\n",
    "        n_inint: max number of iterations to use for k-means\n",
    "    Returns:\n",
    "        centers: np.array representing the centers for n_clusters\n",
    "        labels: np.array containing a label for each datapoint in X\n",
    "    '''\n",
    "    \n",
    "    centers = np.zeros((n_cluster,X.shape[1]))\n",
    "    labels = np.zeros(X.shape[0]) \n",
    "    # YOUR CODE HERE\n",
    "    \n",
    "    np.random.seed(random_seed)\n",
    "    \n",
    "    # create Centroids -> randomly pick up n_cluster points as Centroids\n",
    "    centers = X.copy()\n",
    "    np.random.shuffle(centers)\n",
    "    centers = centers[:n_cluster]\n",
    "    \n",
    "    # print(labels.shape)\n",
    "    \n",
    "    for iteration_number in range(n_init):\n",
    "        data_belong = []\n",
    "\n",
    "        # calculate Euclidean distance\n",
    "        for point in range(X.shape[0]): # for each sample\n",
    "            distance = []\n",
    "\n",
    "            for center_point in range(centers.shape[0]): # for each center point\n",
    "                # use numpy.linalg.norm(a-b) to calculate distance\n",
    "                distance.append(np.linalg.norm(X[point] - centers[center_point]))\n",
    "\n",
    "            # print(distance)\n",
    "            data_belong.append(np.argmin(distance))\n",
    "\n",
    "        cluster_avg = np.zeros((n_cluster,X.shape[1]))\n",
    "        cluster_indivudal_count = np.zeros(n_cluster)\n",
    "        # calculate the average\n",
    "        for point in range(X.shape[0]): # for each sample\n",
    "            cluster_indivudal_count[data_belong[point]] += 1\n",
    "            cluster_avg[data_belong[point]] += X[point]\n",
    "\n",
    "        for center_point in range(centers.shape[0]): # for each center point\n",
    "            cluster_avg[center_point] /= cluster_indivudal_count[center_point]\n",
    "        \n",
    "        # if the Centroids is stable, quit the loop\n",
    "        if np.array_equal(labels, data_belong):\n",
    "            break\n",
    "        else:\n",
    "            centers = cluster_avg\n",
    "            labels = np.array(data_belong)\n",
    "            # print(cluster_indivudal_count)\n",
    "    \n",
    "    # raise NotImplementedError()\n",
    "    \n",
    "    return centers,labels\n",
    "\n",
    "## change the parameters of the function call to test your implementation\n",
    "centers, labels = kmeans(X,n_cluster=4, random_seed=4, n_init=300)"
   ]
  },
  {
   "cell_type": "code",
   "execution_count": 20,
   "metadata": {},
   "outputs": [
    {
     "name": "stdout",
     "output_type": "stream",
     "text": [
      "Euclidean dist for sklearn: 2091.9399577080417\n",
      "----------------------------------------------------------\n",
      "Euclidean dist for my kmeans: 2317.5638724883547 ( n_init = 1 )\n",
      "Euclidean dist for my kmeans: 2210.8241254751 ( n_init = 2 )\n",
      "Euclidean dist for my kmeans: 2154.2834456727865 ( n_init = 3 )\n",
      "Euclidean dist for my kmeans: 2125.3673684560204 ( n_init = 4 )\n",
      "Euclidean dist for my kmeans: 2111.9272271257514 ( n_init = 5 )\n",
      "Euclidean dist for my kmeans: 2106.0605905865104 ( n_init = 6 )\n",
      "Euclidean dist for my kmeans: 2096.1944137161913 ( n_init = 7 )\n",
      "Euclidean dist for my kmeans: 2080.9578593498914 ( n_init = 8 )\n",
      "Euclidean dist for my kmeans: 2069.7873206141835 ( n_init = 9 )\n",
      "Euclidean dist for my kmeans: 2067.2509749276264 ( n_init = 10 )\n",
      "Euclidean dist for my kmeans: 2067.2509749276264 ( n_init = 300 )\n"
     ]
    }
   ],
   "source": [
    "## optional :You can write a code to visualize or check your algorithm here\n",
    "\n",
    "# print('my kmeans result: centers labels', labels)\n",
    "\n",
    "from sklearn.cluster import KMeans\n",
    "sklearn_kmeans = KMeans(n_clusters=4, max_iter=300)\n",
    "sklearn_kmeans.fit(X)\n",
    "# print('sklearn result: centers labels', kmeans.labels_)\n",
    "\n",
    "# sum up all the Euclidean distance -> comparison & evaluation\n",
    "sklearn_dist = 0\n",
    "for index in range(X.shape[0]):\n",
    "    sklearn_dist += np.linalg.norm(X[index] - sklearn_kmeans.cluster_centers_[sklearn_kmeans.labels_[index]])\n",
    "    \n",
    "print('Euclidean dist for sklearn:', sklearn_dist)\n",
    "print('----------------------------------------------------------')\n",
    "for init in range(1, 11):\n",
    "    my_dist = 0\n",
    "    centers, labels = kmeans(X,n_cluster=4, random_seed=4, n_init=init)\n",
    "    for index in range(X.shape[0]):\n",
    "        my_dist += np.linalg.norm(X[index] - centers[labels[index]])\n",
    "    print('Euclidean dist for my kmeans:', my_dist, '( n_init =', init, ')')\n",
    "centers, labels = kmeans(X,n_cluster=4, random_seed=4, n_init=300)\n",
    "print('Euclidean dist for my kmeans:', my_dist, '( n_init =', 300, ')')"
   ]
  },
  {
   "cell_type": "markdown",
   "metadata": {
    "deletable": false,
    "editable": false,
    "nbgrader": {
     "checksum": "fab53d843afdb4590a9bdc5c710e462e",
     "grade": false,
     "grade_id": "cell-76698eb980289c80",
     "locked": true,
     "schema_version": 1,
     "solution": false
    }
   },
   "source": [
    "## Part 5 Decision Trees (10 marks)"
   ]
  },
  {
   "cell_type": "markdown",
   "metadata": {},
   "source": [
    "The following is a small synthetic data set about the weather conditions.  We are\n",
    "going to try and use decision trees to predict whether it will rain or not on the given day.\n",
    "\n",
    "\n",
    "|Temperature| Cloudy| UV Index| Humidity| Rain\n",
    "|---:|--:|--:|--:|--:|\n",
    "|25|No| Low| Low| No \n",
    "|29|No| Low| High| No\n",
    "|26|No| Low| Medium| No\n",
    "|26|No| Medium| Medium| No\n",
    "|27|No| Medium| High| No\n",
    "|28|No| High | High| No\n",
    "|25|No| High |Low| No\n",
    "|29|Yes| Low |Low| Yes\n",
    "|28|No| Medium| High| Yes\n",
    "|28|Yes| Medium| High| Yes\n",
    "|26|No| Low |Low| Yes\n",
    "|27|Yes| Low |High| Yes\n",
    "\n",
    "**Note:**\n",
    "* You can treat temperature as a continuous variable and split on a range of age values.\n",
    "* Attribute selection in the tree uses information gain "
   ]
  },
  {
   "cell_type": "markdown",
   "metadata": {
    "deletable": false,
    "editable": false,
    "nbgrader": {
     "checksum": "9b44bdf1ae62acb081644266577395fd",
     "grade": false,
     "grade_id": "cell-ffd88c19387bedd8",
     "locked": true,
     "schema_version": 1,
     "solution": false
    }
   },
   "source": [
    "## Q 5.1\n",
    "#### What is the initial entropy of Rain?  (2 marks)\n"
   ]
  },
  {
   "cell_type": "markdown",
   "metadata": {
    "deletable": false,
    "nbgrader": {
     "checksum": "76b1ff3c2e714fa30a1dc368dbe63570",
     "grade": true,
     "grade_id": "cell-d35db412731c2d6a",
     "locked": false,
     "points": 2,
     "schema_version": 1,
     "solution": true
    }
   },
   "source": [
    "Entropy(x) = - SUM {p(x) log2 p(x)}, where p(rain = No) = 7/12 and p(rain = Yes) = 5/12 (initially). Entropy(Rain) = 0.98."
   ]
  },
  {
   "cell_type": "markdown",
   "metadata": {
    "deletable": false,
    "editable": false,
    "nbgrader": {
     "checksum": "5efa30af43b173902056b73e7b539158",
     "grade": false,
     "grade_id": "cell-e2089d98927f298e",
     "locked": true,
     "schema_version": 1,
     "solution": false
    }
   },
   "source": [
    "## Q 5.2\n",
    "#### Which attribute would the decision-tree building algorithm choose at the root of the tree?   (2 marks)\n",
    "\n",
    "Choose one through inspection and explain your reasoning in a sentence. "
   ]
  },
  {
   "cell_type": "markdown",
   "metadata": {
    "deletable": false,
    "nbgrader": {
     "checksum": "acc40041822bf5459c18f6e4553a4530",
     "grade": true,
     "grade_id": "cell-6468810f6c59c07b",
     "locked": false,
     "points": 2,
     "schema_version": 1,
     "solution": true
    }
   },
   "source": [
    "Cloudy should be chosen as the root node. This is because whether it is cloudy or not can determine 10 of the 12 samples provided. While this may create an overfitted tree it is impossible to tell with the data present and therefore cloudy should be used."
   ]
  },
  {
   "cell_type": "markdown",
   "metadata": {
    "deletable": false,
    "editable": false,
    "nbgrader": {
     "checksum": "3091e15da3fa10bc5035834f9ef0c1a0",
     "grade": false,
     "grade_id": "cell-ce4e040dba4e8f1e",
     "locked": true,
     "schema_version": 1,
     "solution": false
    }
   },
   "source": [
    "## Q 5.3\n",
    "#### Calculate and specify the information gain of the attribute you chose to split on in the previous question.  (3 marks)"
   ]
  },
  {
   "cell_type": "markdown",
   "metadata": {
    "deletable": false,
    "nbgrader": {
     "checksum": "1357169a2a652f05982b3dd7d4b577d8",
     "grade": true,
     "grade_id": "cell-b6dd5db337ee2270",
     "locked": false,
     "points": 3,
     "schema_version": 1,
     "solution": true
    }
   },
   "source": [
    "IG(Y|X) = Entropy(Y) - Entropy(Y|X), where Y is whether its raining and X is whether its cloudy. we know Entropy(Y) = 0.98.\n",
    "\n",
    "And Entropy(Y|X) = -(SUM(y) SUM(x){p(Y=y|X=x) log2 p(Y=y|X=x)}) which becomes Entropy(Y|X) = 0.76.\n",
    "\n",
    "Therefore, IG(Y|X) = 0.98 - 0.76 = 0.22.\n",
    "\n",
    "Splitting on cloudy provides an information gain of 0.22."
   ]
  },
  {
   "cell_type": "markdown",
   "metadata": {
    "deletable": false,
    "editable": false,
    "nbgrader": {
     "checksum": "7b8d42557fcfb76ba5d07344aa5ab6f2",
     "grade": false,
     "grade_id": "cell-d23ce05a8408dbcd",
     "locked": true,
     "schema_version": 1,
     "solution": false
    }
   },
   "source": [
    "## Q 5.4\n",
    "\n",
    "#### Consider a decision tree built from an arbitrary set of data. If the output is binary, what is the maximum training set error for this dataset? Explain your answer. (Please note that this is the error on the same dataset the tree was trained on.  A new test set could have arbitrary errors.) (3 marks) <font color='red'>slightly hard</font>"
   ]
  },
  {
   "cell_type": "markdown",
   "metadata": {
    "deletable": false,
    "nbgrader": {
     "checksum": "3a93d2811aaa1d696d03d59fc1f2df65",
     "grade": true,
     "grade_id": "cell-c422bac72cc05fc9",
     "locked": false,
     "points": 3,
     "schema_version": 1,
     "solution": true
    }
   },
   "source": [
    "The maximum error is 0.5 (50%). This is because in a worst case scenario a split will always occur with the result being trained towards the higher probability. The worst possible split is one where a split is being made independant values (have no influence on the outcome) eg. \n",
    "\n",
    "|1|2|R\n",
    "|---:|--:|--:|\n",
    "|T|T|Yes\n",
    "|T|T|Yes\n",
    "|T|T|Yes\n",
    "|T|T|No\n",
    "|T|T|No\n",
    "|T|T|No\n",
    "|T|T|Yes\n",
    "\n",
    "NOTE: R is the result column\n",
    "\n",
    "In this case both available variable have no influence on the outcome however the tree will always train to the best value (in this case yes occurs 1 more time then no for the samples). If another 1 = T, 2 = T, R = No, entry was added to the table then the decision tree would have to make a 50/50 split where no matter what half the results are incorrect."
   ]
  },
  {
   "cell_type": "code",
   "execution_count": null,
   "metadata": {
    "collapsed": true
   },
   "outputs": [],
   "source": []
  }
 ],
 "metadata": {
  "kernelspec": {
   "display_name": "Python 3",
   "language": "python",
   "name": "python3"
  },
  "language_info": {
   "codemirror_mode": {
    "name": "ipython",
    "version": 3
   },
   "file_extension": ".py",
   "mimetype": "text/x-python",
   "name": "python",
   "nbconvert_exporter": "python",
   "pygments_lexer": "ipython3",
   "version": "3.6.3"
  }
 },
 "nbformat": 4,
 "nbformat_minor": 2
}
